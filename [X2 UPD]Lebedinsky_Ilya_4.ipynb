{
 "cells": [
  {
   "cell_type": "markdown",
   "metadata": {},
   "source": [
    "# Лебединский Илья Владимирович 381908-3 \n",
    "### Зачетное задание №4."
   ]
  },
  {
   "cell_type": "markdown",
   "metadata": {},
   "source": [
    "## Численное интегрирование. Светимость черного тела\n",
    "1.Построить для Солнца график зависимости 𝜑(𝜆,𝑇) от 𝜆.\n",
    "\n",
    "2.Вычислить светимость Солнца на видимой области длин волн.\n",
    "\n",
    "3.Вычислить светимость Солнца для всех длин волн.\n",
    "\n",
    "4.Найти светимость Солнца с помощью закона Стефана - Больцмана.\n",
    "\n",
    "5.Найти солнечную постоянную.\n",
    "\n",
    "6.Результаты сравнить с данными из литературы.\n",
    "\n",
    "7.Сделать выводы."
   ]
  },
  {
   "cell_type": "markdown",
   "metadata": {},
   "source": [
    "## 1.График зависимости 𝜑(𝜆,𝑇) от 𝜆"
   ]
  },
  {
   "cell_type": "code",
   "execution_count": 54,
   "metadata": {},
   "outputs": [
    {
     "data": {
      "image/png": "[encoded data removed]",
      "text/plain": [
       "<Figure size 432x288 with 1 Axes>"
      ]
     },
     "metadata": {
      "needs_background": "light"
     },
     "output_type": "display_data"
    }
   ],
   "source": [
    "import numpy as np\n",
    "import scipy.constants as sc\n",
    "import matplotlib.pyplot as plt\n",
    "import math as math\n",
    "from scipy.integrate import quad, dblquad, tplquad\n",
    "%matplotlib inline\n",
    "from scipy import linalg\n",
    "from scipy import integrate\n",
    "\n",
    "# Значение лямбды\n",
    "lyambda = np.array([3.5,4,4.5,5,5.5,6,6.5,7,7.5,8])*10**(-7)\n",
    "\n",
    "# Значение 𝜑\n",
    "mass = [0, 0, 0, 0, 0, 0, 0, 0, 0, 0]\n",
    "for i in range(10):\n",
    "    mass[i] = ((8*np.pi*sc.h*sc.c)/lyambda[i]**5) * (1/(math.exp(((sc.h*sc.c)/(lyambda[i]*sc.k*5778)))-1))\n",
    "\n",
    "f = np.polyfit(lyambda, mass, 4)\n",
    "x = np.linspace(lyambda[0], lyambda[9], 100)\n",
    "y = np.polyval(f, x)\n",
    "plt.plot(x, y,)\n",
    "pass\n"
   ]
  },
  {
   "cell_type": "markdown",
   "metadata": {},
   "source": [
    "## 2. Cветимость Солнца на видимой области длин волн\n",
    "\n",
    " С помощью численного интегрирования найдем светимость Солнца на видимой области длин волн, т.\\,е. для $\\lambda$ в диапазоне от $\\lambda_1 = 3.5\\times 10^{-7}$ до $\\lambda_2 = 7\\times 10^{-7}$.\n",
    "\n",
    "необходимо найти интеграл\n",
    "                                            $$\n",
    "R(\\lambda_1,\\lambda_2,T) = \\int_{\\lambda_1}^{\\lambda_2} \\varphi(\\lambda, T) d\\lambda.\n",
    "$$"
   ]
  },
  {
   "cell_type": "code",
   "execution_count": 55,
   "metadata": {},
   "outputs": [
    {
     "data": {
      "text/plain": [
       "26416045.207762517"
      ]
     },
     "execution_count": 55,
     "metadata": {},
     "output_type": "execute_result"
    }
   ],
   "source": [
    "h = 6.6261*10**-34\n",
    "a = 3.5 * (10**(-7))\n",
    "b = 7 * (10**(-7))\n",
    "n = 100\n",
    "H = (b - a)/n\n",
    "x = np.arange(a + H/2, b, H)\n",
    "y = (2*np.pi*h*sc.c**2)/((x**5)*((np.e**((h*c)/(x*sc.k*T))-1)))\n",
    "I_rect = H*sum(y)\n",
    "I_rect"
   ]
  },
  {
   "cell_type": "code",
   "execution_count": 56,
   "metadata": {},
   "outputs": [
    {
     "data": {
      "text/plain": [
       "26199157.459464908"
      ]
     },
     "execution_count": 56,
     "metadata": {},
     "output_type": "execute_result"
    }
   ],
   "source": [
    "I_trapz = integrate.trapz(y, x)\n",
    "I_trapz"
   ]
  },
  {
   "cell_type": "code",
   "execution_count": 57,
   "metadata": {},
   "outputs": [
    {
     "data": {
      "text/plain": [
       "26199634.676830918"
      ]
     },
     "execution_count": 57,
     "metadata": {},
     "output_type": "execute_result"
    }
   ],
   "source": [
    "I_simps = integrate.simps(y, x)\n",
    "I_simps"
   ]
  },
  {
   "cell_type": "markdown",
   "metadata": {},
   "source": [
    "## 3. Находим светимость Солнца для всех длин волн через несобственный интеграл"
   ]
  },
  {
   "cell_type": "code",
   "execution_count": 58,
   "metadata": {},
   "outputs": [
    {
     "name": "stdout",
     "output_type": "stream",
     "text": [
      "Светимость Солнца:  3.836508690909489e+26\n"
     ]
    },
    {
     "name": "stderr",
     "output_type": "stream",
     "text": [
      ""
     ]
    }
   ],
   "source": [
    "T=5776\n",
    "s1,q = quad(lambda x: x**3/(np.exp(x)-1), 0, np.inf)\n",
    "s2 = sc.k**4/(4*sc.pi**2*sc.c**2*sc.hbar**3)*T**4*(6.07877*10**18)*s1\n",
    "print(\"Светимость Солнца: \", s2)"
   ]
  },
  {
   "cell_type": "markdown",
   "metadata": {},
   "source": [
    "## 4. Находим светимость солнца, используя постоянную Стефана-Больцмана"
   ]
  },
  {
   "cell_type": "code",
   "execution_count": 59,
   "metadata": {},
   "outputs": [
    {
     "name": "stdout",
     "output_type": "stream",
     "text": [
      "Светимость Солнца для всех длин волн =  3.8386131401239756e+26\n"
     ]
    }
   ],
   "source": [
    "Rs = 6.957 * 10**8  \n",
    "const_S_B = 2*(np.pi**5)*(sc.k**4)/(15*(sc.c**2)*(sc.h**3))\n",
    "R = const_S_B * T**4 \n",
    "ans = R*4*np.pi*Rs**2\n",
    "print(\"Светимость Солнца для всех длин волн = \", ans)"
   ]
  },
  {
   "cell_type": "markdown",
   "metadata": {},
   "source": [
    "## 5. Солнечная постоянная"
   ]
  },
  {
   "cell_type": "code",
   "execution_count": 60,
   "metadata": {},
   "outputs": [
    {
     "name": "stdout",
     "output_type": "stream",
     "text": [
      "Солнечная постоянная =  1367.8788465865166\n"
     ]
    }
   ],
   "source": [
    "Sun_const = ((5.67*(10**(-8)))*(5778**4)*(6.9599*(10**8))**2)/((1.49598*(10**11))**2)\n",
    "print(\"Солнечная постоянная = \", Sun_const)"
   ]
  },
  {
   "cell_type": "markdown",
   "metadata": {},
   "source": [
    "## Итоги:\n",
    "В ходе работы были получены следующие величины:\n",
    "\n",
    "Светимость Солнца на видимой области длин волн состовляет $26199634$ (Вт)\n",
    "\n",
    "Светимость Солнца найденная с помощью несобстевнного интеграла: 3.827 * 10^26 (Вт).\n",
    "\n",
    "Светимость Солнца найденная с помощью закона Стефана-Больцмана: 3.843 * 10^26 (Вт).\n",
    "\n",
    "Солнечная постоянная - $1367.8788$"
   ]
  },
  {
   "cell_type": "markdown",
   "metadata": {},
   "source": [
    "## Вывод.\n",
    "\n",
    "С учетом погрешности вычисленные результаты совпадают с результатами из литературы.\n",
    "\n",
    "Солнечная постоянная, по данным википедии составляет 1367 Вт/м^2.\n",
    "Солнечная постоянная совпадает с данными на википедии.\n",
    "\n",
    "Cветимость Солнца найденная с помощью несобственного интеграла $3.8 \\times 10^{26}$ Вт, что соответствует данными из литературы.\n",
    "\n",
    "Светимость Солнца найденная с помощью закона Стефана-Больцмана $3.8 \\times 10^{26}$ Вт, что тоже соответствует данными из литературы.\n",
    "\n",
    "Данные о светимости Солнца на видимой области длин волн найти не удалось.\n",
    "\n",
    "Можно сделать выводы, что полученные значение сходится с табличными."
   ]
  }
 ],
 "metadata": {
  "kernelspec": {
   "display_name": "Python 3",
   "language": "python",
   "name": "python3"
  },
  "language_info": {
   "codemirror_mode": {
    "name": "ipython",
    "version": 3
   },
   "file_extension": ".py",
   "mimetype": "text/x-python",
   "name": "python",
   "nbconvert_exporter": "python",
   "pygments_lexer": "ipython3",
   "version": "3.7.6"
  }
 },
 "nbformat": 4,
 "nbformat_minor": 4
}
